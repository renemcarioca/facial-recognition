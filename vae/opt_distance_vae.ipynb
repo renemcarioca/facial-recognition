{
 "cells": [
  {
   "cell_type": "code",
   "execution_count": 1,
   "metadata": {},
   "outputs": [],
   "source": [
    "import pandas as pd\n",
    "import numpy as np\n",
    "from GPyOpt.methods.bayesian_optimization import BayesianOptimization\n",
    "from model import VAE"
   ]
  },
  {
   "cell_type": "code",
   "execution_count": 2,
   "metadata": {},
   "outputs": [],
   "source": [
    "pairs_dev_train_path = '../pairsDevTrain.txt'\n",
    "pairs_dev_test_path = '../pairsDevTest.txt'\n",
    "\n",
    "def extract_pairs_for_development(pairs_dev_filepath: str):\n",
    "    pairs = []\n",
    "    with open(pairs_dev_filepath, 'r') as f:\n",
    "        size = int(next(f))\n",
    "        for i in range(size):\n",
    "            line = next(f)\n",
    "            name, num1, num2 = line.strip().split()\n",
    "            pairs.append(((name, int(num1)), (name, int(num2))))\n",
    "        for i in range(size):\n",
    "            line = next(f)\n",
    "            name1, num1, name2, num2 = line.strip().split()\n",
    "            pairs.append(((name1, int(num1)), (name2, int(num2))))\n",
    "    return pairs\n",
    "\n",
    "pairs_dev_train = extract_pairs_for_development(pairs_dev_train_path)\n",
    "pairs_dev_test = extract_pairs_for_development(pairs_dev_test_path)"
   ]
  },
  {
   "cell_type": "code",
   "execution_count": 3,
   "metadata": {},
   "outputs": [],
   "source": [
    "import torch\n",
    "from torchvision import transforms\n",
    "from torch.utils.data import Dataset, DataLoader\n",
    "from PIL import Image\n",
    "\n",
    "dataset_path = '../lfw/'\n",
    "\n",
    "class PairDataGenerator(Dataset):\n",
    "    def __init__(self, pairs, transform=None):\n",
    "        self.pairs = pairs\n",
    "\n",
    "        composition = []\n",
    "        if transform:\n",
    "            composition.append(transform)\n",
    "        composition.append(transforms.ToTensor())\n",
    "\n",
    "        self.transform = transforms.Compose(composition)\n",
    "\n",
    "    def __len__(self):\n",
    "        return len(self.pairs)\n",
    "\n",
    "    def __getitem__(self, index):\n",
    "        (name1, num1), (name2, num2) = self.pairs[index]\n",
    "        # Assuming images are in a folder named 'lfw-deepfunneled'\n",
    "        image_path1 = f'{dataset_path}/{name1}/{name1}_{num1:0>4}.jpg'\n",
    "        image_path2 = f'{dataset_path}/{name2}/{name2}_{num2:0>4}.jpg'\n",
    "\n",
    "        image1 = Image.open(image_path1).convert(\"RGB\")\n",
    "        image2 = Image.open(image_path2).convert(\"RGB\")\n",
    "\n",
    "        image1 = self.transform(image1)\n",
    "        image2 = self.transform(image2)\n",
    "\n",
    "        y_true = 1 if name1 == name2 else 0\n",
    "        return image1, image2, y_true"
   ]
  },
  {
   "cell_type": "code",
   "execution_count": 4,
   "metadata": {},
   "outputs": [],
   "source": [
    "train_pair_gen = PairDataGenerator(pairs_dev_train, transform=transforms.Resize((128,128)))\n",
    "test_pair_gen = PairDataGenerator(pairs_dev_test, transform=transforms.Resize((128,128)))\n",
    "train_pair_loader = DataLoader(train_pair_gen, batch_size=32)\n",
    "test_pair_loader = DataLoader(test_pair_gen, batch_size=32)"
   ]
  },
  {
   "cell_type": "code",
   "execution_count": 5,
   "metadata": {},
   "outputs": [
    {
     "data": {
      "text/plain": [
       "VAE(\n",
       "  (encoder_conv): Sequential(\n",
       "    (0): Conv2d(3, 32, kernel_size=(3, 3), stride=(2, 2), padding=(1, 1))\n",
       "    (1): BatchNorm2d(32, eps=1e-05, momentum=0.1, affine=True, track_running_stats=True)\n",
       "    (2): LeakyReLU(negative_slope=0.01)\n",
       "    (3): Conv2d(32, 64, kernel_size=(3, 3), stride=(2, 2), padding=(1, 1))\n",
       "    (4): BatchNorm2d(64, eps=1e-05, momentum=0.1, affine=True, track_running_stats=True)\n",
       "    (5): LeakyReLU(negative_slope=0.01)\n",
       "    (6): Conv2d(64, 64, kernel_size=(3, 3), stride=(2, 2), padding=(1, 1))\n",
       "    (7): BatchNorm2d(64, eps=1e-05, momentum=0.1, affine=True, track_running_stats=True)\n",
       "    (8): LeakyReLU(negative_slope=0.01)\n",
       "    (9): Conv2d(64, 64, kernel_size=(3, 3), stride=(2, 2), padding=(1, 1))\n",
       "    (10): BatchNorm2d(64, eps=1e-05, momentum=0.1, affine=True, track_running_stats=True)\n",
       "    (11): LeakyReLU(negative_slope=0.01)\n",
       "    (12): Conv2d(64, 64, kernel_size=(3, 3), stride=(2, 2), padding=(1, 1))\n",
       "    (13): BatchNorm2d(64, eps=1e-05, momentum=0.1, affine=True, track_running_stats=True)\n",
       "    (14): LeakyReLU(negative_slope=0.01)\n",
       "    (15): Conv2d(64, 64, kernel_size=(3, 3), stride=(2, 2), padding=(1, 1))\n",
       "    (16): BatchNorm2d(64, eps=1e-05, momentum=0.1, affine=True, track_running_stats=True)\n",
       "    (17): LeakyReLU(negative_slope=0.01)\n",
       "  )\n",
       "  (mu): Sequential(\n",
       "    (0): Linear(in_features=256, out_features=1024, bias=True)\n",
       "    (1): LeakyReLU(negative_slope=0.01)\n",
       "    (2): Dropout(p=0.2, inplace=False)\n",
       "  )\n",
       "  (log_var): Sequential(\n",
       "    (0): Linear(in_features=256, out_features=1024, bias=True)\n",
       "    (1): LeakyReLU(negative_slope=0.01)\n",
       "    (2): Dropout(p=0.2, inplace=False)\n",
       "  )\n",
       "  (decoder_linear): Sequential(\n",
       "    (0): Linear(in_features=1024, out_features=256, bias=True)\n",
       "    (1): LeakyReLU(negative_slope=0.01)\n",
       "    (2): Dropout(p=0.2, inplace=False)\n",
       "  )\n",
       "  (decoder_conv): Sequential(\n",
       "    (0): UpsamplingNearest2d(scale_factor=2.0, mode=nearest)\n",
       "    (1): ConvTranspose2d(64, 64, kernel_size=(3, 3), stride=(1, 1), padding=(1, 1))\n",
       "    (2): BatchNorm2d(64, eps=1e-05, momentum=0.1, affine=True, track_running_stats=True)\n",
       "    (3): LeakyReLU(negative_slope=0.01)\n",
       "    (4): UpsamplingNearest2d(scale_factor=2.0, mode=nearest)\n",
       "    (5): ConvTranspose2d(64, 64, kernel_size=(3, 3), stride=(1, 1), padding=(1, 1))\n",
       "    (6): BatchNorm2d(64, eps=1e-05, momentum=0.1, affine=True, track_running_stats=True)\n",
       "    (7): LeakyReLU(negative_slope=0.01)\n",
       "    (8): UpsamplingNearest2d(scale_factor=2.0, mode=nearest)\n",
       "    (9): ConvTranspose2d(64, 64, kernel_size=(3, 3), stride=(1, 1), padding=(1, 1))\n",
       "    (10): BatchNorm2d(64, eps=1e-05, momentum=0.1, affine=True, track_running_stats=True)\n",
       "    (11): LeakyReLU(negative_slope=0.01)\n",
       "    (12): UpsamplingNearest2d(scale_factor=2.0, mode=nearest)\n",
       "    (13): ConvTranspose2d(64, 64, kernel_size=(3, 3), stride=(1, 1), padding=(1, 1))\n",
       "    (14): BatchNorm2d(64, eps=1e-05, momentum=0.1, affine=True, track_running_stats=True)\n",
       "    (15): LeakyReLU(negative_slope=0.01)\n",
       "    (16): UpsamplingNearest2d(scale_factor=2.0, mode=nearest)\n",
       "    (17): ConvTranspose2d(64, 32, kernel_size=(3, 3), stride=(1, 1), padding=(1, 1))\n",
       "    (18): BatchNorm2d(32, eps=1e-05, momentum=0.1, affine=True, track_running_stats=True)\n",
       "    (19): LeakyReLU(negative_slope=0.01)\n",
       "    (20): UpsamplingNearest2d(scale_factor=2.0, mode=nearest)\n",
       "    (21): ConvTranspose2d(32, 3, kernel_size=(3, 3), stride=(1, 1), padding=(1, 1))\n",
       "    (22): Sigmoid()\n",
       "  )\n",
       ")"
      ]
     },
     "execution_count": 5,
     "metadata": {},
     "output_type": "execute_result"
    }
   ],
   "source": [
    "vae = VAE((3, 128, 128), 1024, 6).cuda()\n",
    "vae.load_state_dict(torch.load('trained/vae-(128, 128)-1024-6-1.dat')['state_dict'])\n",
    "vae.eval()"
   ]
  },
  {
   "cell_type": "code",
   "execution_count": 6,
   "metadata": {},
   "outputs": [],
   "source": [
    "def to_numpy(pair_loader):\n",
    "    left_latent_list = []\n",
    "    right_latent_list = []\n",
    "    value_list = []\n",
    "    for left_images, right_images, value_batch in pair_loader:\n",
    "        left_images = left_images.cuda()\n",
    "        right_images = right_images.cuda()\n",
    "        left_images_latent = vae.forward_encoder(left_images)[0].detach().cpu().numpy()\n",
    "        right_images_latent = vae.forward_encoder(right_images)[0].detach().cpu().numpy()\n",
    "        values = value_batch.detach().cpu().numpy()\n",
    "        left_latent_list.append(left_images_latent)\n",
    "        right_latent_list.append(right_images_latent)\n",
    "        value_list.append(values)\n",
    "    left_latent = np.concatenate(left_latent_list, axis=0)\n",
    "    right_latent = np.concatenate(right_latent_list, axis=0)\n",
    "    values = np.concatenate(value_list, axis=0)\n",
    "    return left_latent, right_latent, values\n",
    "train_left_latent, train_right_latent, train_values = to_numpy(train_pair_loader)\n",
    "test_left_latent, test_right_latent, test_values = to_numpy(test_pair_loader)"
   ]
  },
  {
   "cell_type": "code",
   "execution_count": 7,
   "metadata": {},
   "outputs": [
    {
     "name": "stdout",
     "output_type": "stream",
     "text": [
      "0.37195048\n",
      "4.7118587\n",
      "2200\n"
     ]
    },
    {
     "data": {
      "text/plain": [
       "array([1.4190643, 2.0344756, 3.2802236, ..., 2.3242188, 3.1788743,\n",
       "       1.5478997], dtype=float32)"
      ]
     },
     "execution_count": 7,
     "metadata": {},
     "output_type": "execute_result"
    }
   ],
   "source": [
    "dif = train_left_latent - train_right_latent\n",
    "sq_dif = dif ** 2\n",
    "sq_dif_sum = np.sum(sq_dif, axis=1)\n",
    "train_dist_array = np.sqrt(sq_dif_sum)\n",
    "train_min = train_dist_array.min()\n",
    "train_max = train_dist_array.max()\n",
    "print(train_min)\n",
    "print(train_max)\n",
    "print(len(train_dist_array))\n",
    "train_dist_array"
   ]
  },
  {
   "cell_type": "code",
   "execution_count": 8,
   "metadata": {},
   "outputs": [
    {
     "name": "stdout",
     "output_type": "stream",
     "text": [
      "0.52522093\n",
      "4.7207284\n",
      "1000\n"
     ]
    },
    {
     "data": {
      "text/plain": [
       "array([2.9992962 , 2.3960783 , 3.4272218 , 2.717269  , 2.5799737 ,\n",
       "       3.6390877 , 1.645507  , 2.3753755 , 2.519557  , 2.1207674 ,\n",
       "       2.4927742 , 1.5020404 , 2.215817  , 1.747654  , 2.193992  ,\n",
       "       3.008318  , 1.7492172 , 3.1234841 , 1.2696934 , 1.4292512 ,\n",
       "       2.0696828 , 2.4238434 , 1.3058199 , 1.9354028 , 1.9576133 ,\n",
       "       3.2896333 , 2.1647182 , 1.9686898 , 0.86193967, 1.8225218 ,\n",
       "       1.1332887 , 1.6272203 , 1.5958564 , 2.4536881 , 1.1353883 ,\n",
       "       3.0961926 , 3.3706794 , 2.233334  , 1.9191918 , 2.8544586 ,\n",
       "       1.0093877 , 2.6155488 , 3.159827  , 1.552377  , 2.805454  ,\n",
       "       2.764229  , 2.4262052 , 1.7498633 , 2.7891903 , 2.4301276 ,\n",
       "       1.717214  , 2.3717334 , 2.968008  , 3.4440844 , 2.8863044 ,\n",
       "       1.9704925 , 3.0784292 , 1.6713713 , 2.3905447 , 2.3002608 ,\n",
       "       2.8493576 , 3.2083232 , 2.920108  , 1.7480929 , 1.6659873 ,\n",
       "       3.3518717 , 1.957069  , 1.5191396 , 1.6495969 , 1.6365972 ,\n",
       "       1.860617  , 1.0299094 , 1.8124154 , 2.2888606 , 2.280219  ,\n",
       "       2.568537  , 1.5683968 , 1.9349642 , 3.0639713 , 2.774991  ,\n",
       "       2.3626509 , 1.4134743 , 1.6393437 , 2.9341257 , 2.0041173 ,\n",
       "       1.5652635 , 1.9732354 , 1.4174957 , 2.3775992 , 1.643574  ,\n",
       "       0.904936  , 2.2138565 , 1.7421474 , 1.956252  , 3.0246623 ,\n",
       "       2.2677002 , 1.856949  , 1.931225  , 0.98777676, 1.936478  ,\n",
       "       2.044267  , 1.307128  , 1.5527974 , 1.0518821 , 3.6074042 ,\n",
       "       2.63358   , 2.530247  , 2.6431189 , 2.19647   , 3.0627253 ,\n",
       "       1.8972176 , 3.4091709 , 1.256551  , 3.5397022 , 2.1386068 ,\n",
       "       0.6637604 , 1.2242151 , 1.8116325 , 1.6193213 , 0.98283756,\n",
       "       1.1692921 , 3.564039  , 1.9995161 , 1.6844991 , 2.1879127 ,\n",
       "       1.9991117 , 2.1575224 , 1.8600198 , 2.540917  , 1.0949272 ,\n",
       "       1.4825766 , 2.6302848 , 2.475331  , 1.5274795 , 1.6713469 ,\n",
       "       1.3074263 , 1.5353311 , 2.0196545 , 1.834941  , 2.5757692 ,\n",
       "       2.8392642 , 0.7659088 , 1.7380184 , 2.6895964 , 1.5313814 ,\n",
       "       1.946241  , 2.0716128 , 3.8336356 , 1.7888856 , 1.5982699 ,\n",
       "       4.292079  , 2.3899958 , 2.2888997 , 1.8672464 , 2.8411744 ,\n",
       "       2.6078522 , 2.2789698 , 1.4223993 , 1.5755699 , 3.408     ,\n",
       "       1.5832018 , 1.4704522 , 0.8932197 , 2.7898612 , 3.0260212 ,\n",
       "       2.668594  , 2.373923  , 2.22371   , 4.0459146 , 2.878407  ,\n",
       "       1.5198835 , 2.0291078 , 1.1538467 , 3.0556433 , 2.425355  ,\n",
       "       1.3415813 , 1.9523605 , 2.4338582 , 1.2253448 , 2.247079  ,\n",
       "       1.3005072 , 1.1280512 , 2.5140512 , 2.3209736 , 2.5685833 ,\n",
       "       1.367338  , 2.1928623 , 2.3186252 , 2.0699484 , 1.148176  ,\n",
       "       2.8717444 , 2.1350024 , 1.7404052 , 2.2639518 , 2.0969956 ,\n",
       "       2.8203144 , 2.1181164 , 2.0293038 , 4.2402525 , 2.7524927 ,\n",
       "       2.3643105 , 1.4404049 , 3.2062433 , 1.906132  , 1.8017436 ,\n",
       "       1.9403559 , 0.9667184 , 2.1029916 , 2.7189007 , 0.97167903,\n",
       "       2.6054018 , 1.4852841 , 1.0929898 , 0.63185275, 1.662565  ,\n",
       "       1.1816145 , 2.207863  , 1.9021988 , 1.8349034 , 1.6958741 ,\n",
       "       2.8224094 , 1.4813983 , 3.3120322 , 1.420197  , 1.9712527 ,\n",
       "       3.2247844 , 2.4492526 , 1.7822177 , 2.1483982 , 0.77997696,\n",
       "       1.6234856 , 2.5584314 , 1.7561767 , 1.0686462 , 1.6948948 ,\n",
       "       0.8753667 , 1.5867165 , 1.7674913 , 1.1863436 , 2.243688  ,\n",
       "       1.4981601 , 0.6620635 , 1.361388  , 2.907281  , 1.1846246 ,\n",
       "       2.2323523 , 3.1690013 , 2.592562  , 2.026071  , 1.004763  ,\n",
       "       2.3254519 , 1.067889  , 1.9215409 , 1.8823297 , 1.856157  ,\n",
       "       3.165877  , 1.1744468 , 1.2755319 , 1.5319667 , 0.9202137 ,\n",
       "       1.3653895 , 2.4647174 , 2.4494212 , 3.1971865 , 2.3981068 ,\n",
       "       1.001066  , 3.6059694 , 2.6676607 , 1.5081283 , 2.5363858 ,\n",
       "       2.827858  , 1.2198116 , 3.3096724 , 0.942335  , 1.7955074 ,\n",
       "       1.2377009 , 1.948572  , 2.1749983 , 1.2542409 , 2.4649239 ,\n",
       "       3.4990213 , 2.7548432 , 2.3810098 , 0.7989687 , 1.4073061 ,\n",
       "       1.055889  , 4.0794697 , 2.1684093 , 1.0842084 , 1.616972  ,\n",
       "       1.9694477 , 2.091017  , 2.1539018 , 1.7682371 , 1.8171198 ,\n",
       "       1.1142431 , 2.2149303 , 1.1919365 , 2.7652817 , 1.1252748 ,\n",
       "       2.4963417 , 2.9995265 , 1.154578  , 1.7600613 , 2.374003  ,\n",
       "       1.9601568 , 2.957491  , 1.9587562 , 1.1297605 , 2.8086047 ,\n",
       "       2.5639012 , 1.3288499 , 2.2592738 , 2.1676755 , 1.0676426 ,\n",
       "       1.0301318 , 1.4427923 , 2.2099462 , 1.2392157 , 1.0959008 ,\n",
       "       2.073408  , 1.9482808 , 1.5309776 , 1.8323098 , 2.1908116 ,\n",
       "       2.058916  , 1.4419804 , 1.3650651 , 3.3880608 , 1.3036486 ,\n",
       "       1.7779434 , 2.4543357 , 1.378718  , 2.8505447 , 3.3868454 ,\n",
       "       1.4132001 , 2.041842  , 1.9111148 , 2.641988  , 2.010992  ,\n",
       "       2.7501242 , 0.68075   , 2.608372  , 2.3924336 , 2.3580966 ,\n",
       "       1.2663096 , 3.0771773 , 1.9499629 , 2.785359  , 1.5308628 ,\n",
       "       3.3251505 , 2.8711784 , 1.3030459 , 2.3332405 , 1.084832  ,\n",
       "       1.7435507 , 1.6981305 , 1.9362803 , 1.911677  , 2.365272  ,\n",
       "       2.4037468 , 1.2116773 , 1.6031581 , 1.2506568 , 2.0865905 ,\n",
       "       2.2671099 , 1.999866  , 1.4789535 , 2.7979069 , 2.7632275 ,\n",
       "       2.832089  , 2.595039  , 2.2391174 , 2.2636833 , 1.5919071 ,\n",
       "       3.208047  , 1.93072   , 3.2887793 , 2.2944245 , 1.6352102 ,\n",
       "       1.0551151 , 2.0385609 , 3.6417835 , 2.1796372 , 2.233871  ,\n",
       "       1.7974366 , 3.1826746 , 3.7067263 , 1.1189632 , 2.6082675 ,\n",
       "       2.3560088 , 2.599608  , 2.356599  , 1.1611838 , 1.1382135 ,\n",
       "       2.8083594 , 2.1992888 , 2.8193872 , 2.3743079 , 2.2407935 ,\n",
       "       0.85973907, 1.2676339 , 1.5618716 , 3.2937722 , 1.5229702 ,\n",
       "       1.4540184 , 1.5039365 , 1.5358121 , 3.2521932 , 1.6998876 ,\n",
       "       2.8564548 , 1.6331998 , 2.361529  , 2.3433666 , 2.934847  ,\n",
       "       1.2970006 , 2.519713  , 1.682908  , 1.1710639 , 1.1467737 ,\n",
       "       1.7161975 , 2.6480737 , 2.5365493 , 1.5248338 , 2.3426363 ,\n",
       "       1.6822113 , 2.3423986 , 2.6369965 , 1.2590069 , 1.5355965 ,\n",
       "       3.5023007 , 1.3640682 , 1.0301086 , 1.7039496 , 2.0977252 ,\n",
       "       1.9221305 , 2.9726129 , 1.5881449 , 2.2280617 , 1.8017259 ,\n",
       "       2.6784267 , 2.0673864 , 2.585684  , 3.0799494 , 0.9140104 ,\n",
       "       1.6711887 , 0.6561767 , 3.459694  , 2.4238844 , 1.5359849 ,\n",
       "       4.1038165 , 3.3987393 , 1.6827741 , 2.4185457 , 2.545804  ,\n",
       "       1.1416315 , 2.8075655 , 2.7791953 , 3.8444858 , 1.2307367 ,\n",
       "       2.486898  , 2.0456917 , 2.5436175 , 2.745326  , 2.4167037 ,\n",
       "       1.8002528 , 1.729239  , 2.3204486 , 4.14784   , 2.1447442 ,\n",
       "       2.3657007 , 1.5500292 , 1.6782961 , 1.8644576 , 2.4945202 ,\n",
       "       1.253194  , 0.52522093, 2.9663315 , 2.1807473 , 2.809863  ,\n",
       "       2.4022052 , 2.4225616 , 2.9842978 , 1.389038  , 1.994357  ,\n",
       "       2.2650697 , 3.0864747 , 1.8973947 , 2.2535815 , 2.83227   ,\n",
       "       1.0608634 , 2.2183158 , 1.7550519 , 2.175284  , 3.3850777 ,\n",
       "       2.2911677 , 2.8211246 , 1.6687835 , 2.1866179 , 2.1914904 ,\n",
       "       2.9421053 , 1.7457908 , 2.8332512 , 3.1174963 , 2.3560328 ,\n",
       "       2.3428264 , 1.7861402 , 2.2800004 , 1.7149029 , 3.353896  ,\n",
       "       2.456468  , 3.111391  , 1.9680172 , 2.072713  , 2.2400048 ,\n",
       "       2.450597  , 1.8074459 , 2.3478045 , 3.2814436 , 1.0713881 ,\n",
       "       2.7997031 , 3.2111511 , 2.2933187 , 2.130304  , 1.6519839 ,\n",
       "       1.3121046 , 3.6894681 , 2.0489912 , 2.4045134 , 3.0839257 ,\n",
       "       1.3064246 , 2.4330842 , 1.2254524 , 2.4277449 , 4.4101086 ,\n",
       "       1.4257503 , 2.3381705 , 2.0933504 , 2.2454112 , 2.3545315 ,\n",
       "       1.7571379 , 2.3055823 , 2.1163838 , 2.7654195 , 2.8229628 ,\n",
       "       3.2761705 , 1.8765571 , 2.9355319 , 3.3387537 , 2.0867436 ,\n",
       "       1.8036704 , 2.679959  , 2.743622  , 1.8431067 , 1.5525125 ,\n",
       "       2.5064673 , 2.4004352 , 3.04242   , 2.5341845 , 2.629897  ,\n",
       "       2.9778924 , 2.8407788 , 2.9400187 , 3.1961062 , 3.8924472 ,\n",
       "       2.7215824 , 1.7594506 , 2.6339371 , 2.3776262 , 2.0703979 ,\n",
       "       2.644128  , 3.6562083 , 4.093645  , 1.7225795 , 2.049324  ,\n",
       "       3.489916  , 2.3579943 , 1.8798195 , 1.1285696 , 2.327821  ,\n",
       "       2.555465  , 2.724053  , 2.4129786 , 3.1449115 , 1.0479844 ,\n",
       "       1.602402  , 1.9208044 , 3.0734112 , 1.443614  , 1.7229223 ,\n",
       "       2.537227  , 2.7940903 , 2.9699457 , 2.8789635 , 2.054755  ,\n",
       "       1.7809362 , 1.6130371 , 2.6937513 , 2.4072878 , 3.1214795 ,\n",
       "       2.2452414 , 2.046807  , 2.3306696 , 2.137006  , 1.8940803 ,\n",
       "       2.7283196 , 2.902634  , 2.7204726 , 3.4313314 , 1.903584  ,\n",
       "       1.9718026 , 4.071343  , 1.0951946 , 1.7578113 , 1.8662019 ,\n",
       "       1.5430356 , 1.1994565 , 2.7008383 , 1.7601228 , 3.1957045 ,\n",
       "       4.7207284 , 2.0457628 , 2.924941  , 2.7329922 , 2.4167938 ,\n",
       "       1.2111233 , 1.6420522 , 1.6119081 , 2.6128523 , 1.9294304 ,\n",
       "       2.2164905 , 1.7707311 , 1.0063552 , 2.1605573 , 2.239197  ,\n",
       "       2.9910598 , 3.1641068 , 2.7297208 , 1.4292108 , 2.0623195 ,\n",
       "       2.1632862 , 2.6112316 , 1.7975714 , 3.3710694 , 2.744968  ,\n",
       "       3.0490935 , 3.1711679 , 3.1285272 , 1.717995  , 2.7984667 ,\n",
       "       1.9349953 , 3.4886158 , 2.6368315 , 1.9912488 , 1.9304311 ,\n",
       "       1.9952452 , 2.5409532 , 2.6898506 , 3.4055963 , 1.9050508 ,\n",
       "       1.6110786 , 2.6899266 , 0.9765361 , 2.5050654 , 1.9004154 ,\n",
       "       1.2290528 , 3.0037577 , 2.0452943 , 1.8828088 , 3.1371346 ,\n",
       "       2.4314034 , 3.487475  , 1.9958719 , 2.8635738 , 1.289029  ,\n",
       "       3.5736976 , 1.1039947 , 3.4045508 , 2.1259916 , 2.4475577 ,\n",
       "       2.0356712 , 2.9652643 , 1.8190701 , 2.3024852 , 1.8263115 ,\n",
       "       1.6581875 , 2.1203194 , 2.1897974 , 2.3854203 , 2.3176708 ,\n",
       "       2.1521637 , 2.4689765 , 2.6519816 , 2.8292568 , 1.9087641 ,\n",
       "       1.5806254 , 3.215053  , 2.5959435 , 3.5293796 , 1.859649  ,\n",
       "       1.2731013 , 2.5134587 , 2.5533185 , 2.5911682 , 2.7003727 ,\n",
       "       2.684799  , 2.4548914 , 2.9479    , 2.719476  , 2.1705444 ,\n",
       "       2.438931  , 2.215092  , 2.547889  , 2.2191927 , 2.0775185 ,\n",
       "       2.344582  , 2.6011164 , 1.690508  , 1.0515481 , 1.9025073 ,\n",
       "       1.4656856 , 1.5663586 , 1.7780515 , 2.1411679 , 1.6131954 ,\n",
       "       2.5901089 , 3.5431187 , 1.531192  , 2.1409237 , 1.6674743 ,\n",
       "       2.9029722 , 2.5459015 , 2.1292543 , 1.8461523 , 2.1145976 ,\n",
       "       2.6344101 , 2.551481  , 1.8074194 , 2.9141061 , 1.7915524 ,\n",
       "       1.2851305 , 2.870117  , 4.4369864 , 2.0075614 , 2.2962599 ,\n",
       "       2.6258452 , 1.9113446 , 2.621471  , 2.195518  , 2.5268924 ,\n",
       "       2.5565991 , 1.3105302 , 2.2345924 , 2.6868913 , 2.5196366 ,\n",
       "       3.0796864 , 2.1170316 , 2.7965944 , 2.6107917 , 2.3989127 ,\n",
       "       2.105417  , 1.3246868 , 1.6467016 , 2.73826   , 2.3829675 ,\n",
       "       2.5781803 , 3.294711  , 1.8125706 , 2.7055318 , 1.7273957 ,\n",
       "       2.8502347 , 2.6346185 , 2.4430125 , 1.5552118 , 2.8945172 ,\n",
       "       3.3365452 , 2.1570652 , 2.1785958 , 2.2593832 , 1.921774  ,\n",
       "       3.0742257 , 2.910143  , 1.6420376 , 1.4749821 , 1.5757132 ,\n",
       "       2.1011038 , 3.0466497 , 2.0919516 , 2.0112498 , 2.585787  ,\n",
       "       1.9240853 , 2.0145576 , 2.940904  , 2.9786875 , 1.8426493 ,\n",
       "       2.8882143 , 4.0109906 , 1.7500929 , 1.822394  , 2.242458  ,\n",
       "       1.5575359 , 1.0480772 , 1.9819338 , 2.5629613 , 2.6313114 ,\n",
       "       3.817658  , 2.4022698 , 2.3236613 , 1.8798218 , 2.0258086 ,\n",
       "       0.9558578 , 2.3817544 , 2.2968323 , 1.5527847 , 1.6418464 ,\n",
       "       1.0607797 , 2.2018158 , 1.8264085 , 2.7095692 , 1.980075  ,\n",
       "       2.1974404 , 1.478695  , 1.8183157 , 1.212761  , 3.1456938 ,\n",
       "       3.149928  , 2.3850296 , 2.4142706 , 2.3277056 , 2.9469593 ,\n",
       "       1.3010429 , 2.4386644 , 2.1033993 , 2.510147  , 3.329431  ,\n",
       "       1.6296865 , 2.0101244 , 1.5657278 , 1.8419298 , 2.092064  ,\n",
       "       2.5859952 , 2.3228781 , 3.0519094 , 2.2995193 , 1.2303852 ,\n",
       "       2.825541  , 3.629609  , 1.5529432 , 1.5559415 , 3.4981291 ,\n",
       "       2.5266461 , 2.8749416 , 2.2582743 , 2.5019362 , 1.6652987 ,\n",
       "       2.9503622 , 3.0017698 , 3.4725149 , 2.051651  , 2.1836548 ,\n",
       "       1.9913379 , 1.6099064 , 1.9322889 , 2.4893374 , 2.866925  ,\n",
       "       1.5445634 , 2.1456833 , 1.3899988 , 2.0268364 , 1.9412599 ,\n",
       "       3.823906  , 2.6696048 , 3.15992   , 1.2358642 , 2.4957716 ,\n",
       "       1.2706568 , 1.6380643 , 1.5373    , 1.2981554 , 2.9013429 ,\n",
       "       2.9501343 , 3.0270503 , 2.431169  , 3.1667778 , 2.6059484 ,\n",
       "       1.919507  , 1.4392357 , 1.7487798 , 1.6304667 , 2.631363  ,\n",
       "       2.7906666 , 2.4716372 , 2.3693626 , 2.385334  , 0.75771314,\n",
       "       1.831324  , 2.4858286 , 2.83838   , 2.3966918 , 2.5533264 ,\n",
       "       2.3743165 , 1.7165428 , 3.2851427 , 1.6854544 , 1.6265783 ,\n",
       "       3.0688524 , 2.5606365 , 2.9178367 , 1.8584381 , 2.9528697 ,\n",
       "       2.6853087 , 1.4833027 , 1.7052157 , 2.924212  , 2.662303  ,\n",
       "       2.4385262 , 1.9621931 , 1.4219358 , 2.5078204 , 1.672298  ,\n",
       "       1.9391862 , 3.6467984 , 1.780513  , 1.2346042 , 1.2155551 ,\n",
       "       2.5587537 , 2.4445553 , 1.5878301 , 2.7309809 , 2.283313  ,\n",
       "       3.7474568 , 2.2626154 , 2.8073065 , 2.0097172 , 2.553805  ,\n",
       "       1.5804932 , 2.261942  , 2.1758702 , 2.4997056 , 2.1417127 ,\n",
       "       2.32982   , 2.145365  , 1.9336736 , 1.4844306 , 2.256866  ,\n",
       "       2.502268  , 2.5172384 , 3.262304  , 1.8059602 , 2.3313334 ,\n",
       "       2.1759672 , 1.8081695 , 2.4762952 , 2.1853483 , 3.0713437 ,\n",
       "       1.824379  , 1.4633178 , 1.9901617 , 2.6809566 , 3.8546498 ,\n",
       "       2.5079572 , 2.2349713 , 2.3277593 , 2.1926916 , 1.154815  ,\n",
       "       3.6654115 , 2.8587825 , 1.9447168 , 2.575577  , 2.9640388 ,\n",
       "       2.2868283 , 0.543451  , 1.9760544 , 1.4787362 , 2.410539  ,\n",
       "       1.3148589 , 1.4070978 , 3.495955  , 1.286168  , 0.993639  ,\n",
       "       1.0756843 , 1.7334176 , 2.612314  , 2.6819382 , 2.8560112 ,\n",
       "       3.0627673 , 1.6201754 , 2.584243  , 4.3280463 , 1.7241664 ,\n",
       "       1.9919326 , 2.752455  , 2.0565665 , 2.7549963 , 1.9290648 ,\n",
       "       2.9207175 , 1.6481974 , 3.9996243 , 2.4706938 , 0.9866228 ],\n",
       "      dtype=float32)"
      ]
     },
     "execution_count": 8,
     "metadata": {},
     "output_type": "execute_result"
    }
   ],
   "source": [
    "dif = test_left_latent - test_right_latent\n",
    "sq_dif = dif ** 2\n",
    "sq_dif_sum = np.sum(sq_dif, axis=1)\n",
    "test_dist_array = np.sqrt(sq_dif_sum)\n",
    "test_min = test_dist_array.min()\n",
    "test_max = test_dist_array.max()\n",
    "print(test_min)\n",
    "print(test_max)\n",
    "print(len(test_dist_array))\n",
    "test_dist_array"
   ]
  },
  {
   "cell_type": "code",
   "execution_count": 9,
   "metadata": {},
   "outputs": [],
   "source": [
    "def obj_func(threshold: float) -> float:\n",
    "    decision = (train_dist_array < threshold).astype(int)\n",
    "    accuracy = np.mean(decision == train_values)\n",
    "    return -accuracy\n",
    "def evaluate(dist_array: np.array, true: np.array, threshold: float) -> float:\n",
    "    decision = (dist_array < threshold).astype(int)\n",
    "    return np.mean(decision == true)"
   ]
  },
  {
   "cell_type": "code",
   "execution_count": 10,
   "metadata": {},
   "outputs": [],
   "source": [
    "domain = [{'name': 'threshold', 'type': 'continuous', 'domain': (train_min, train_max)}]\n",
    "max_iter = 50\n",
    "BO = BayesianOptimization(f = obj_func, domain = domain)\n",
    "BO.run_optimization(max_iter=max_iter)"
   ]
  },
  {
   "cell_type": "code",
   "execution_count": 11,
   "metadata": {},
   "outputs": [
    {
     "name": "stdout",
     "output_type": "stream",
     "text": [
      "[2.13008393]\n"
     ]
    }
   ],
   "source": [
    "opt_values = BO.x_opt\n",
    "print(opt_values)"
   ]
  },
  {
   "cell_type": "code",
   "execution_count": 12,
   "metadata": {},
   "outputs": [
    {
     "data": {
      "text/plain": [
       "-0.5681818181818182"
      ]
     },
     "execution_count": 12,
     "metadata": {},
     "output_type": "execute_result"
    }
   ],
   "source": [
    "obj_func(*opt_values)"
   ]
  },
  {
   "cell_type": "code",
   "execution_count": 13,
   "metadata": {},
   "outputs": [
    {
     "data": {
      "text/plain": [
       "0.559"
      ]
     },
     "execution_count": 13,
     "metadata": {},
     "output_type": "execute_result"
    }
   ],
   "source": [
    "evaluate(test_dist_array, test_values, threshold=opt_values[0])"
   ]
  }
 ],
 "metadata": {
  "kernelspec": {
   "display_name": "tscl",
   "language": "python",
   "name": "python3"
  },
  "language_info": {
   "codemirror_mode": {
    "name": "ipython",
    "version": 3
   },
   "file_extension": ".py",
   "mimetype": "text/x-python",
   "name": "python",
   "nbconvert_exporter": "python",
   "pygments_lexer": "ipython3",
   "version": "3.10.10"
  }
 },
 "nbformat": 4,
 "nbformat_minor": 2
}
