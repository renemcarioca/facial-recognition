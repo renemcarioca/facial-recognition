{
 "cells": [
  {
   "cell_type": "code",
   "execution_count": 1,
   "metadata": {},
   "outputs": [
    {
     "name": "stderr",
     "output_type": "stream",
     "text": [
      "/home/rene/miniconda3/envs/tscl/lib/python3.10/site-packages/tqdm/auto.py:21: TqdmWarning: IProgress not found. Please update jupyter and ipywidgets. See https://ipywidgets.readthedocs.io/en/stable/user_install.html\n",
      "  from .autonotebook import tqdm as notebook_tqdm\n"
     ]
    }
   ],
   "source": [
    "import torch\n",
    "from torchvision import transforms\n",
    "from torch.utils.data import DataLoader\n",
    "import numpy as np\n",
    "from model import VAE\n",
    "from train_eval_vae import to_numpy\n",
    "from main import extract_pairs_for_development, PairDataGenerator\n",
    "from sklearn.linear_model import SGDClassifier\n",
    "from sklearn.svm import SVC\n",
    "from sklearn.ensemble import RandomForestClassifier\n",
    "from sklearn.neural_network import MLPClassifier\n",
    "from sklearn.metrics import accuracy_score\n",
    "\n",
    "SEED = 42\n",
    "torch.manual_seed(SEED)\n",
    "torch.cuda.manual_seed(SEED)\n",
    "np.random.seed(SEED)\n",
    "dataset_path = '../lfw-deepfunneled/'\n",
    "\n",
    "BATCH_SIZE = 16\n",
    "g = torch.Generator()\n",
    "g.manual_seed(SEED)\n",
    "\n",
    "device = torch.device('cuda' if torch.cuda.is_available() else 'cpu')"
   ]
  },
  {
   "cell_type": "code",
   "execution_count": 2,
   "metadata": {},
   "outputs": [
    {
     "data": {
      "text/plain": [
       "VAE(\n",
       "  (encoder_conv): Sequential(\n",
       "    (0): Conv2d(3, 32, kernel_size=(3, 3), stride=(2, 2), padding=(1, 1))\n",
       "    (1): BatchNorm2d(32, eps=1e-05, momentum=0.1, affine=True, track_running_stats=True)\n",
       "    (2): LeakyReLU(negative_slope=0.01)\n",
       "    (3): Conv2d(32, 64, kernel_size=(3, 3), stride=(2, 2), padding=(1, 1))\n",
       "    (4): BatchNorm2d(64, eps=1e-05, momentum=0.1, affine=True, track_running_stats=True)\n",
       "    (5): LeakyReLU(negative_slope=0.01)\n",
       "    (6): Conv2d(64, 128, kernel_size=(3, 3), stride=(2, 2), padding=(1, 1))\n",
       "    (7): BatchNorm2d(128, eps=1e-05, momentum=0.1, affine=True, track_running_stats=True)\n",
       "    (8): LeakyReLU(negative_slope=0.01)\n",
       "  )\n",
       "  (mu): Sequential(\n",
       "    (0): Linear(in_features=32768, out_features=256, bias=True)\n",
       "    (1): Dropout(p=0.2, inplace=False)\n",
       "  )\n",
       "  (log_var): Sequential(\n",
       "    (0): Linear(in_features=32768, out_features=256, bias=True)\n",
       "    (1): Dropout(p=0.2, inplace=False)\n",
       "  )\n",
       "  (decoder_linear): Sequential(\n",
       "    (0): Linear(in_features=256, out_features=32768, bias=True)\n",
       "    (1): LeakyReLU(negative_slope=0.01)\n",
       "    (2): Dropout(p=0.2, inplace=False)\n",
       "  )\n",
       "  (decoder_conv): Sequential(\n",
       "    (0): UpsamplingNearest2d(scale_factor=2.0, mode=nearest)\n",
       "    (1): ConvTranspose2d(128, 64, kernel_size=(3, 3), stride=(1, 1), padding=(1, 1))\n",
       "    (2): BatchNorm2d(64, eps=1e-05, momentum=0.1, affine=True, track_running_stats=True)\n",
       "    (3): LeakyReLU(negative_slope=0.01)\n",
       "    (4): UpsamplingNearest2d(scale_factor=2.0, mode=nearest)\n",
       "    (5): ConvTranspose2d(64, 32, kernel_size=(3, 3), stride=(1, 1), padding=(1, 1))\n",
       "    (6): BatchNorm2d(32, eps=1e-05, momentum=0.1, affine=True, track_running_stats=True)\n",
       "    (7): LeakyReLU(negative_slope=0.01)\n",
       "    (8): UpsamplingNearest2d(scale_factor=2.0, mode=nearest)\n",
       "    (9): ConvTranspose2d(32, 3, kernel_size=(3, 3), stride=(1, 1), padding=(1, 1))\n",
       "    (10): Sigmoid()\n",
       "  )\n",
       ")"
      ]
     },
     "execution_count": 2,
     "metadata": {},
     "output_type": "execute_result"
    }
   ],
   "source": [
    "vae = VAE((3, 128, 128), 256, 3).to(device)\n",
    "vae.load_state_dict(torch.load('trained-final/devFinal-(3, 128, 128)-256-3-0.1.dat')['state_dict'])\n",
    "vae.eval()"
   ]
  },
  {
   "cell_type": "code",
   "execution_count": 3,
   "metadata": {},
   "outputs": [],
   "source": [
    "pairs_train_path = '../pairsDevTrain.txt'\n",
    "pairs_test_path = '../pairsDevTest.txt'\n",
    "pairs_train = extract_pairs_for_development(pairs_train_path)\n",
    "pairs_test = extract_pairs_for_development(pairs_test_path)\n",
    "\n",
    "transform = transforms.Resize((128,128))\n",
    "train_dataset = PairDataGenerator(pairs=pairs_train, transform=transform)\n",
    "test_dataset = PairDataGenerator(pairs=pairs_test, transform=transform)\n",
    "\n",
    "BATCH_SIZE = 32\n",
    "train_pair_loader = DataLoader(train_dataset, batch_size=BATCH_SIZE, shuffle=True, generator=g)\n",
    "test_pair_loader = DataLoader(test_dataset, batch_size=BATCH_SIZE, shuffle=True, generator=g)\n",
    "\n",
    "train_left, train_right, train_values = to_numpy(train_pair_loader, vae)\n",
    "test_left, test_right, y_test = to_numpy(test_pair_loader, vae)"
   ]
  },
  {
   "cell_type": "code",
   "execution_count": 4,
   "metadata": {},
   "outputs": [],
   "source": [
    "train1 = np.c_[train_left, train_right]\n",
    "train2 = np.c_[train_right, train_left]\n",
    "X_train = np.r_[train1, train2]\n",
    "y_train = np.r_[train_values, train_values]\n",
    "\n",
    "X_test = np.c_[test_left, test_right]"
   ]
  },
  {
   "cell_type": "code",
   "execution_count": 5,
   "metadata": {},
   "outputs": [
    {
     "name": "stdout",
     "output_type": "stream",
     "text": [
      "SGD Train Accuracy: 0.5802272727272727\n",
      "SGD Test Accuracy: 0.516\n"
     ]
    }
   ],
   "source": [
    "sgd = SGDClassifier(random_state=SEED)\n",
    "sgd.fit(X_train, y_train)\n",
    "\n",
    "sgd_pred = sgd.predict(X_train)\n",
    "sgd_acc = accuracy_score(y_train, sgd_pred)\n",
    "print(f\"SGD Train Accuracy: {sgd_acc}\")\n",
    "\n",
    "sgd_pred = sgd.predict(X_test)\n",
    "sgd_acc = accuracy_score(y_test, sgd_pred)\n",
    "print(f\"SGD Test Accuracy: {sgd_acc}\")"
   ]
  },
  {
   "cell_type": "code",
   "execution_count": 6,
   "metadata": {},
   "outputs": [
    {
     "name": "stdout",
     "output_type": "stream",
     "text": [
      "SGD Train Accuracy: 0.8640909090909091\n",
      "SVC Test Accuracy: 0.616\n"
     ]
    }
   ],
   "source": [
    "svc = SVC(random_state=SEED)\n",
    "svc.fit(X_train, y_train)\n",
    "\n",
    "svc_pred = svc.predict(X_train)\n",
    "svc_acc = accuracy_score(y_train, svc_pred)\n",
    "print(f\"SGD Train Accuracy: {svc_acc}\")\n",
    "\n",
    "\n",
    "svc_pred = svc.predict(X_test)\n",
    "svc_acc = accuracy_score(y_test, svc_pred)\n",
    "print(f\"SVC Test Accuracy: {svc_acc}\")"
   ]
  },
  {
   "cell_type": "code",
   "execution_count": 7,
   "metadata": {},
   "outputs": [
    {
     "name": "stdout",
     "output_type": "stream",
     "text": [
      "RFC Train Accuracy: 1.0\n",
      "RFC Test Accuracy: 0.565\n"
     ]
    }
   ],
   "source": [
    "rfc = RandomForestClassifier(random_state=SEED)\n",
    "rfc.fit(X_train, y_train)\n",
    "\n",
    "rfc_pred = rfc.predict(X_train)\n",
    "rfc_acc = accuracy_score(y_train, rfc_pred)\n",
    "print(f\"RFC Train Accuracy: {rfc_acc}\")\n",
    "\n",
    "rfc_pred = rfc.predict(X_test)\n",
    "rfc_acc = accuracy_score(y_test, rfc_pred)\n",
    "print(f\"RFC Test Accuracy: {rfc_acc}\")"
   ]
  },
  {
   "cell_type": "code",
   "execution_count": 8,
   "metadata": {},
   "outputs": [
    {
     "name": "stdout",
     "output_type": "stream",
     "text": [
      "MLP Train Accuracy: 1.0\n",
      "MLP Test Accuracy: 0.619\n"
     ]
    }
   ],
   "source": [
    "mlp = MLPClassifier(random_state=SEED)\n",
    "mlp.fit(X_train, y_train)\n",
    "\n",
    "mlp_pred = mlp.predict(X_train)\n",
    "mlp_acc = accuracy_score(y_train, mlp_pred)\n",
    "print(f\"MLP Train Accuracy: {mlp_acc}\")\n",
    "\n",
    "mlp_pred = mlp.predict(X_test)\n",
    "mlp_acc = accuracy_score(y_test, mlp_pred)\n",
    "print(f\"MLP Test Accuracy: {mlp_acc}\")"
   ]
  }
 ],
 "metadata": {
  "kernelspec": {
   "display_name": "tscl",
   "language": "python",
   "name": "python3"
  },
  "language_info": {
   "codemirror_mode": {
    "name": "ipython",
    "version": 3
   },
   "file_extension": ".py",
   "mimetype": "text/x-python",
   "name": "python",
   "nbconvert_exporter": "python",
   "pygments_lexer": "ipython3",
   "version": "3.10.10"
  }
 },
 "nbformat": 4,
 "nbformat_minor": 2
}
