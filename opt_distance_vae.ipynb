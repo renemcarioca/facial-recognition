{
 "cells": [
  {
   "cell_type": "code",
   "execution_count": 1,
   "metadata": {},
   "outputs": [],
   "source": [
    "import pandas as pd\n",
    "import numpy as np\n",
    "from GPyOpt.methods.bayesian_optimization import BayesianOptimization\n",
    "from model import VAE"
   ]
  },
  {
   "cell_type": "code",
   "execution_count": 2,
   "metadata": {},
   "outputs": [],
   "source": [
    "pairs_dev_train_path = 'pairsDevTrain.txt'\n",
    "pairs_dev_test_path = 'pairsDevTest.txt'\n",
    "\n",
    "def extract_pairs_for_development(pairs_dev_filepath: str):\n",
    "    pairs = []\n",
    "    with open(pairs_dev_filepath, 'r') as f:\n",
    "        size = int(next(f))\n",
    "        for i in range(size):\n",
    "            line = next(f)\n",
    "            name, num1, num2 = line.strip().split()\n",
    "            pairs.append(((name, int(num1)), (name, int(num2))))\n",
    "        for i in range(size):\n",
    "            line = next(f)\n",
    "            name1, num1, name2, num2 = line.strip().split()\n",
    "            pairs.append(((name1, int(num1)), (name2, int(num2))))\n",
    "    return pairs\n",
    "\n",
    "pairs_dev_train = extract_pairs_for_development(pairs_dev_train_path)\n",
    "pairs_dev_test = extract_pairs_for_development(pairs_dev_test_path)"
   ]
  },
  {
   "cell_type": "code",
   "execution_count": 3,
   "metadata": {},
   "outputs": [],
   "source": [
    "import torch\n",
    "from torchvision import transforms\n",
    "from torch.utils.data import Dataset, DataLoader\n",
    "from PIL import Image\n",
    "\n",
    "dataset_path = './lfw/'\n",
    "\n",
    "class PairDataGenerator(Dataset):\n",
    "    def __init__(self, pairs, transform=None):\n",
    "        self.pairs = pairs\n",
    "\n",
    "        composition = []\n",
    "        if transform:\n",
    "            composition.append(transform)\n",
    "        composition.append(transforms.ToTensor())\n",
    "\n",
    "        self.transform = transforms.Compose(composition)\n",
    "\n",
    "    def __len__(self):\n",
    "        return len(self.pairs)\n",
    "\n",
    "    def __getitem__(self, index):\n",
    "        (name1, num1), (name2, num2) = self.pairs[index]\n",
    "        # Assuming images are in a folder named 'lfw-deepfunneled'\n",
    "        image_path1 = f'{dataset_path}/{name1}/{name1}_{num1:0>4}.jpg'\n",
    "        image_path2 = f'{dataset_path}/{name2}/{name2}_{num2:0>4}.jpg'\n",
    "\n",
    "        image1 = Image.open(image_path1).convert(\"RGB\")\n",
    "        image2 = Image.open(image_path2).convert(\"RGB\")\n",
    "\n",
    "        image1 = self.transform(image1)\n",
    "        image2 = self.transform(image2)\n",
    "\n",
    "        # Concatenate images horizontally\n",
    "        pair = torch.cat([image1, image2], dim=2)\n",
    "\n",
    "        y_true = 1 if name1 == name2 else 0\n",
    "        return pair, y_true"
   ]
  },
  {
   "cell_type": "code",
   "execution_count": 4,
   "metadata": {},
   "outputs": [],
   "source": [
    "train_pair_gen = PairDataGenerator(pairs_dev_train, transform=transforms.Resize((256,256)))\n",
    "test_pair_gen = PairDataGenerator(pairs_dev_test, transform=transforms.Resize((256,256)))\n",
    "train_pair_loader = DataLoader(train_pair_gen, batch_size=32)\n",
    "test_pair_loader = DataLoader(test_pair_gen, batch_size=32)"
   ]
  },
  {
   "cell_type": "code",
   "execution_count": 5,
   "metadata": {},
   "outputs": [
    {
     "data": {
      "text/plain": [
       "VAE(\n",
       "  (encoder_conv): Sequential(\n",
       "    (0): Conv2d(3, 32, kernel_size=(3, 3), stride=(2, 2), padding=(1, 1))\n",
       "    (1): BatchNorm2d(32, eps=1e-05, momentum=0.1, affine=True, track_running_stats=True)\n",
       "    (2): LeakyReLU(negative_slope=0.01)\n",
       "    (3): Conv2d(32, 64, kernel_size=(3, 3), stride=(2, 2), padding=(1, 1))\n",
       "    (4): BatchNorm2d(64, eps=1e-05, momentum=0.1, affine=True, track_running_stats=True)\n",
       "    (5): LeakyReLU(negative_slope=0.01)\n",
       "    (6): Conv2d(64, 64, kernel_size=(3, 3), stride=(2, 2), padding=(1, 1))\n",
       "    (7): BatchNorm2d(64, eps=1e-05, momentum=0.1, affine=True, track_running_stats=True)\n",
       "    (8): LeakyReLU(negative_slope=0.01)\n",
       "    (9): Conv2d(64, 64, kernel_size=(3, 3), stride=(2, 2), padding=(1, 1))\n",
       "    (10): BatchNorm2d(64, eps=1e-05, momentum=0.1, affine=True, track_running_stats=True)\n",
       "    (11): LeakyReLU(negative_slope=0.01)\n",
       "  )\n",
       "  (mu): Sequential(\n",
       "    (0): Linear(in_features=16384, out_features=256, bias=True)\n",
       "    (1): LeakyReLU(negative_slope=0.01)\n",
       "    (2): Dropout(p=0.2, inplace=False)\n",
       "  )\n",
       "  (log_var): Sequential(\n",
       "    (0): Linear(in_features=16384, out_features=256, bias=True)\n",
       "    (1): LeakyReLU(negative_slope=0.01)\n",
       "    (2): Dropout(p=0.2, inplace=False)\n",
       "  )\n",
       "  (decoder_linear): Sequential(\n",
       "    (0): Linear(in_features=256, out_features=16384, bias=True)\n",
       "    (1): LeakyReLU(negative_slope=0.01)\n",
       "    (2): Dropout(p=0.2, inplace=False)\n",
       "  )\n",
       "  (decoder_conv): Sequential(\n",
       "    (0): UpsamplingNearest2d(scale_factor=2.0, mode=nearest)\n",
       "    (1): ConvTranspose2d(64, 64, kernel_size=(3, 3), stride=(1, 1), padding=(1, 1))\n",
       "    (2): BatchNorm2d(64, eps=1e-05, momentum=0.1, affine=True, track_running_stats=True)\n",
       "    (3): LeakyReLU(negative_slope=0.01)\n",
       "    (4): UpsamplingNearest2d(scale_factor=2.0, mode=nearest)\n",
       "    (5): ConvTranspose2d(64, 64, kernel_size=(3, 3), stride=(1, 1), padding=(1, 1))\n",
       "    (6): BatchNorm2d(64, eps=1e-05, momentum=0.1, affine=True, track_running_stats=True)\n",
       "    (7): LeakyReLU(negative_slope=0.01)\n",
       "    (8): UpsamplingNearest2d(scale_factor=2.0, mode=nearest)\n",
       "    (9): ConvTranspose2d(64, 32, kernel_size=(3, 3), stride=(1, 1), padding=(1, 1))\n",
       "    (10): BatchNorm2d(32, eps=1e-05, momentum=0.1, affine=True, track_running_stats=True)\n",
       "    (11): LeakyReLU(negative_slope=0.01)\n",
       "    (12): UpsamplingNearest2d(scale_factor=2.0, mode=nearest)\n",
       "    (13): ConvTranspose2d(32, 3, kernel_size=(3, 3), stride=(1, 1), padding=(1, 1))\n",
       "    (14): Sigmoid()\n",
       "  )\n",
       ")"
      ]
     },
     "execution_count": 5,
     "metadata": {},
     "output_type": "execute_result"
    }
   ],
   "source": [
    "vae = VAE((3, 256, 256), 256).cuda()\n",
    "vae.load_state_dict(torch.load('trained/vae-256.dat')['state_dict'])\n",
    "vae.eval()"
   ]
  },
  {
   "cell_type": "code",
   "execution_count": 6,
   "metadata": {},
   "outputs": [],
   "source": [
    "def to_numpy(pair_loader):\n",
    "    left_latent_list = []\n",
    "    right_latent_list = []\n",
    "    value_list = []\n",
    "    for pair_batch, value_batch in pair_loader:\n",
    "        left_images = pair_batch[:, :, :, :256].cuda()\n",
    "        right_images = pair_batch[:, :, :, -256:].cuda()\n",
    "        left_images_latent = vae.forward_encoder(left_images)[0].detach().cpu().numpy()\n",
    "        right_images_latent = vae.forward_encoder(right_images)[0].detach().cpu().numpy()\n",
    "        values = value_batch.detach().cpu().numpy()\n",
    "        left_latent_list.append(left_images_latent)\n",
    "        right_latent_list.append(right_images_latent)\n",
    "        value_list.append(values)\n",
    "    left_latent = np.concatenate(left_latent_list, axis=0)\n",
    "    right_latent = np.concatenate(right_latent_list, axis=0)\n",
    "    values = np.concatenate(value_list, axis=0)\n",
    "    return left_latent, right_latent, values\n",
    "train_left_latent, train_right_latent, train_values = to_numpy(train_pair_loader)\n",
    "test_left_latent, test_right_latent, test_values = to_numpy(test_pair_loader)"
   ]
  },
  {
   "cell_type": "code",
   "execution_count": 8,
   "metadata": {},
   "outputs": [
    {
     "name": "stdout",
     "output_type": "stream",
     "text": [
      "10.978727\n",
      "63.927536\n",
      "2200\n"
     ]
    },
    {
     "data": {
      "text/plain": [
       "array([21.073095, 29.629827, 41.133606, ..., 29.790003, 29.138306,\n",
       "       22.96704 ], dtype=float32)"
      ]
     },
     "execution_count": 8,
     "metadata": {},
     "output_type": "execute_result"
    }
   ],
   "source": [
    "dif = train_left_latent - train_right_latent\n",
    "sq_dif = dif ** 2\n",
    "sq_dif_sum = np.sum(sq_dif, axis=1)\n",
    "train_dist_array = np.sqrt(sq_dif_sum)\n",
    "train_min = train_dist_array.min()\n",
    "train_max = train_dist_array.max()\n",
    "print(train_min)\n",
    "print(train_max)\n",
    "print(len(train_dist_array))\n",
    "train_dist_array"
   ]
  },
  {
   "cell_type": "code",
   "execution_count": 9,
   "metadata": {},
   "outputs": [
    {
     "name": "stdout",
     "output_type": "stream",
     "text": [
      "16.225035\n",
      "48.390682\n",
      "1000\n"
     ]
    },
    {
     "data": {
      "text/plain": [
       "array([34.405396, 36.395824, 38.41734 , 33.569515, 32.523342, 34.93727 ,\n",
       "       31.577353, 37.38541 , 35.144993, 26.177683, 27.377682, 29.202696,\n",
       "       31.34058 , 26.520834, 32.214672, 33.217304, 31.464514, 36.667507,\n",
       "       21.663109, 23.10997 , 32.359337, 30.59164 , 30.023516, 37.98361 ,\n",
       "       28.300045, 40.80275 , 37.03526 , 33.593292, 24.01202 , 31.880583,\n",
       "       31.9852  , 24.439774, 21.020737, 32.227314, 25.989838, 29.9112  ,\n",
       "       38.849075, 32.99214 , 31.32262 , 33.431683, 27.405657, 34.08843 ,\n",
       "       37.022564, 29.015408, 32.445538, 32.14316 , 28.949202, 30.458809,\n",
       "       31.710327, 34.85473 , 29.41375 , 32.357872, 33.84021 , 34.984066,\n",
       "       28.905663, 31.37485 , 33.959248, 30.05769 , 31.715906, 33.66422 ,\n",
       "       37.310833, 36.806576, 33.190083, 27.73489 , 22.082052, 33.442963,\n",
       "       30.363699, 30.571651, 29.05333 , 21.525108, 23.30971 , 22.713463,\n",
       "       31.53365 , 33.376057, 31.366108, 35.40055 , 26.828016, 26.268702,\n",
       "       33.960655, 30.09609 , 32.20524 , 31.791227, 22.561438, 37.085217,\n",
       "       28.866549, 31.24467 , 28.217411, 26.671211, 27.281397, 23.324545,\n",
       "       29.616991, 26.263573, 32.548546, 33.491753, 38.494354, 37.442276,\n",
       "       27.670012, 32.555862, 22.042843, 26.560152, 43.105618, 40.79391 ,\n",
       "       34.160023, 35.602867, 34.333298, 39.261944, 36.193512, 34.42606 ,\n",
       "       27.119663, 32.05596 , 25.981968, 34.710728, 31.976385, 35.514256,\n",
       "       27.34728 , 17.682287, 26.701006, 31.714878, 29.818035, 27.315508,\n",
       "       30.45726 , 37.14393 , 32.196945, 31.313116, 27.70776 , 26.199608,\n",
       "       30.326618, 33.398975, 31.15959 , 27.184357, 30.36293 , 33.799957,\n",
       "       30.55829 , 24.079048, 31.564627, 27.393982, 28.197618, 24.318954,\n",
       "       24.855501, 30.2647  , 32.184734, 17.051224, 33.05892 , 42.385468,\n",
       "       29.667696, 30.549181, 36.705124, 39.32319 , 32.887054, 23.652864,\n",
       "       37.720974, 38.643795, 31.967142, 29.79022 , 34.73952 , 26.850735,\n",
       "       34.5997  , 27.065586, 25.312983, 32.122803, 27.685944, 30.495514,\n",
       "       27.421144, 32.224617, 37.14725 , 28.282211, 29.444296, 32.8704  ,\n",
       "       34.85148 , 32.501514, 21.456865, 28.425913, 33.776745, 32.472767,\n",
       "       34.428127, 25.859568, 29.089203, 30.14492 , 31.616941, 25.051489,\n",
       "       27.481567, 31.150503, 28.781624, 28.929857, 29.592693, 31.165192,\n",
       "       28.880526, 28.48127 , 28.96295 , 19.795292, 31.578663, 26.19366 ,\n",
       "       33.70083 , 30.85566 , 29.61709 , 31.561481, 34.247417, 28.662365,\n",
       "       44.675083, 32.68005 , 41.35283 , 33.50819 , 39.541527, 38.164463,\n",
       "       31.651707, 30.637794, 31.343382, 29.462612, 34.567825, 34.827522,\n",
       "       37.844345, 24.34638 , 24.247196, 18.608881, 39.862022, 22.39552 ,\n",
       "       26.156193, 34.59078 , 37.328117, 27.98173 , 35.56475 , 26.040985,\n",
       "       42.762627, 32.605885, 27.073038, 34.77324 , 28.368689, 26.293644,\n",
       "       26.647646, 29.834726, 26.150703, 32.228184, 26.533411, 37.418163,\n",
       "       23.24432 , 26.908012, 27.393642, 28.37348 , 20.763409, 31.851915,\n",
       "       31.054022, 20.480497, 29.773392, 31.190699, 27.976383, 27.037018,\n",
       "       29.795366, 36.25495 , 31.09072 , 29.475784, 33.813522, 32.461727,\n",
       "       32.525578, 25.06332 , 26.121483, 29.805222, 21.284243, 25.577076,\n",
       "       26.900047, 28.691605, 38.23113 , 33.589222, 31.085783, 34.25638 ,\n",
       "       34.518036, 30.565113, 36.899807, 29.303316, 27.275082, 27.992298,\n",
       "       32.85957 , 30.319174, 32.285477, 20.349585, 26.928564, 23.99161 ,\n",
       "       33.2139  , 26.077694, 30.232603, 36.337666, 32.137775, 28.045736,\n",
       "       32.83688 , 22.97891 , 30.845934, 27.991436, 40.709583, 34.57821 ,\n",
       "       30.150139, 33.901253, 36.33921 , 33.70909 , 26.418154, 25.877035,\n",
       "       32.158764, 28.83231 , 33.985092, 36.36509 , 38.71608 , 20.95684 ,\n",
       "       32.094593, 33.669167, 27.038414, 30.488832, 33.230145, 29.844646,\n",
       "       29.48953 , 25.25919 , 26.253342, 40.915947, 29.277884, 23.50545 ,\n",
       "       26.845085, 25.501804, 34.11566 , 20.596104, 28.589407, 31.129702,\n",
       "       25.615911, 27.630798, 25.391783, 27.080788, 32.817463, 27.487673,\n",
       "       27.896145, 31.909294, 29.816648, 26.610588, 34.864166, 35.01897 ,\n",
       "       27.758003, 26.884418, 27.995245, 33.436756, 35.598156, 30.617903,\n",
       "       34.29322 , 27.45193 , 37.99787 , 31.779842, 34.973618, 16.225035,\n",
       "       39.870068, 26.648077, 29.603157, 25.97131 , 36.284115, 29.038164,\n",
       "       37.962288, 25.587381, 43.45159 , 40.924835, 25.851788, 28.826468,\n",
       "       16.55507 , 22.325983, 37.666058, 27.433357, 36.022137, 26.124353,\n",
       "       31.799603, 32.26232 , 28.428694, 23.30784 , 30.825018, 36.28138 ,\n",
       "       30.590628, 16.556835, 35.35566 , 37.985855, 43.633213, 28.981403,\n",
       "       27.038025, 38.08841 , 28.578417, 33.004215, 28.454077, 30.151196,\n",
       "       31.900898, 34.631542, 28.68343 , 38.013657, 40.500137, 38.42502 ,\n",
       "       29.850248, 38.309353, 34.699554, 42.225185, 25.487501, 35.811417,\n",
       "       30.536436, 32.15623 , 30.849886, 23.404348, 24.31234 , 33.302845,\n",
       "       26.01589 , 36.90376 , 33.253193, 32.313335, 34.50884 , 21.943882,\n",
       "       26.355717, 37.296993, 34.979836, 27.853876, 29.46659 , 25.573467,\n",
       "       35.33172 , 29.14971 , 32.63982 , 28.191551, 27.400213, 35.728554,\n",
       "       28.028522, 31.815395, 35.57355 , 23.886429, 20.720766, 34.842407,\n",
       "       30.879835, 31.707357, 36.169426, 24.851809, 28.17449 , 30.58383 ,\n",
       "       32.768898, 28.804842, 24.575853, 26.91234 , 31.634817, 28.475742,\n",
       "       17.657696, 30.602781, 28.950878, 29.910933, 29.752745, 31.814302,\n",
       "       26.232363, 28.632618, 38.949623, 36.01322 , 28.914837, 33.344296,\n",
       "       27.101585, 28.437317, 28.434662, 32.910812, 30.336292, 27.246298,\n",
       "       34.566162, 35.69372 , 23.345724, 32.28862 , 29.471327, 22.55766 ,\n",
       "       34.225452, 34.27042 , 39.651337, 27.738243, 37.937126, 32.602592,\n",
       "       27.673   , 29.452578, 28.94864 , 27.68799 , 25.757948, 30.767822,\n",
       "       36.158974, 32.616436, 28.049026, 26.757793, 32.324287, 29.793167,\n",
       "       39.120907, 34.598236, 23.298683, 30.869698, 27.970253, 35.93373 ,\n",
       "       34.98732 , 30.266188, 28.855469, 24.541906, 24.673   , 26.252121,\n",
       "       34.501087, 30.850023, 27.571375, 33.405453, 26.892202, 27.44311 ,\n",
       "       33.12066 , 28.6953  , 38.450745, 35.371437, 36.41698 , 26.039331,\n",
       "       32.31342 , 30.510366, 28.142792, 29.991241, 35.553196, 31.71953 ,\n",
       "       30.068016, 39.456036, 37.615448, 29.133022, 28.37486 , 34.78581 ,\n",
       "       31.885132, 29.371744, 27.50888 , 38.395725, 38.021885, 42.60337 ,\n",
       "       26.3764  , 37.06075 , 32.97793 , 28.514605, 34.921776, 39.090546,\n",
       "       32.42279 , 29.68639 , 35.524048, 23.729345, 33.207397, 30.677437,\n",
       "       31.6869  , 36.157043, 33.18545 , 27.942842, 30.237387, 33.6714  ,\n",
       "       44.368805, 29.993973, 29.7673  , 28.155918, 31.356142, 27.608387,\n",
       "       31.374853, 30.760416, 34.632893, 32.558727, 32.89976 , 29.774193,\n",
       "       26.251688, 33.282574, 34.430748, 29.665623, 31.899582, 29.518972,\n",
       "       35.002155, 27.564573, 27.988365, 28.389708, 30.845497, 35.43128 ,\n",
       "       32.44218 , 38.92517 , 29.382048, 36.995964, 31.626396, 41.31469 ,\n",
       "       38.2083  , 32.645683, 26.589361, 27.835424, 35.84008 , 41.365723,\n",
       "       33.203224, 30.984411, 38.50111 , 28.918234, 27.748566, 38.621193,\n",
       "       32.163147, 32.752754, 26.505089, 25.71717 , 25.66446 , 26.49731 ,\n",
       "       37.040775, 34.544003, 26.114965, 27.64287 , 29.219627, 31.681416,\n",
       "       30.323387, 33.32512 , 29.676527, 31.97946 , 34.912098, 30.85237 ,\n",
       "       40.945316, 39.410988, 42.712345, 38.30687 , 32.362053, 38.394913,\n",
       "       24.941336, 26.983442, 32.18127 , 32.56289 , 30.555332, 33.86941 ,\n",
       "       38.19333 , 29.945694, 37.280243, 32.434082, 33.178925, 38.390526,\n",
       "       32.636158, 29.708776, 34.178658, 33.244637, 19.611622, 32.597267,\n",
       "       26.755693, 40.91284 , 48.096478, 28.631277, 29.897974, 32.61557 ,\n",
       "       39.4989  , 29.48005 , 37.589275, 47.00985 , 28.707338, 27.50698 ,\n",
       "       25.299774, 29.214567, 39.232662, 41.70778 , 31.210184, 36.43768 ,\n",
       "       41.49404 , 39.464558, 38.71007 , 30.288696, 30.565767, 38.65632 ,\n",
       "       26.95748 , 32.162525, 34.980907, 36.008064, 29.005127, 38.49219 ,\n",
       "       39.993706, 44.88308 , 31.633701, 31.83045 , 30.825405, 27.795715,\n",
       "       31.61775 , 25.786177, 26.008553, 32.453716, 34.663326, 28.223679,\n",
       "       28.228363, 35.75435 , 28.574888, 31.684723, 30.226217, 32.26599 ,\n",
       "       37.931805, 27.900288, 25.626715, 31.862617, 34.897053, 33.73161 ,\n",
       "       29.950668, 32.74509 , 36.75855 , 39.289738, 23.76678 , 43.551403,\n",
       "       30.906548, 33.62425 , 34.91867 , 30.456835, 29.517492, 27.729029,\n",
       "       42.90703 , 32.48156 , 35.60244 , 30.80372 , 28.907999, 28.273163,\n",
       "       30.483044, 38.32844 , 32.011734, 45.571114, 30.527578, 31.494495,\n",
       "       33.900444, 33.230614, 34.634678, 37.641388, 29.266483, 26.087301,\n",
       "       27.721529, 37.417137, 32.459667, 36.74371 , 40.79119 , 39.696953,\n",
       "       31.88977 , 34.167274, 29.877563, 37.566193, 32.535355, 33.49906 ,\n",
       "       25.22054 , 31.383976, 33.558456, 27.812151, 39.16341 , 35.76282 ,\n",
       "       41.099247, 25.49532 , 23.38674 , 36.63171 , 31.496878, 28.399424,\n",
       "       41.534412, 25.812056, 30.395699, 33.88287 , 32.50748 , 31.183228,\n",
       "       37.40366 , 28.83815 , 30.410753, 35.09886 , 35.248978, 29.363707,\n",
       "       29.867329, 32.71977 , 30.212084, 32.15667 , 48.390682, 34.906864,\n",
       "       32.08699 , 34.06224 , 34.9459  , 46.3047  , 34.78032 , 32.0156  ,\n",
       "       34.449116, 33.868816, 36.224957, 34.49793 , 30.712614, 35.764507,\n",
       "       26.521347, 36.296024, 39.4104  , 32.285313, 29.513927, 30.092121,\n",
       "       36.252575, 26.814278, 31.723948, 25.46547 , 35.49224 , 35.542442,\n",
       "       30.981592, 27.34055 , 35.824677, 35.572388, 33.430515, 26.863672,\n",
       "       38.833714, 36.121105, 32.523575, 26.233934, 33.460804, 28.956558,\n",
       "       31.621462, 35.281178, 28.379793, 29.885117, 32.56339 , 38.264057,\n",
       "       36.458794, 29.93842 , 30.443916, 35.299515, 28.007519, 29.559267,\n",
       "       32.53519 , 34.91849 , 34.549976, 31.959885, 39.359592, 32.1973  ,\n",
       "       25.703695, 35.69014 , 35.141403, 27.646624, 35.015606, 35.027584,\n",
       "       32.88518 , 35.708908, 36.225246, 36.063095, 31.543118, 28.73938 ,\n",
       "       27.868172, 33.47875 , 31.880732, 38.115562, 36.689117, 23.683908,\n",
       "       33.510506, 23.046804, 40.59165 , 39.483173, 32.561077, 30.997873,\n",
       "       44.947098, 29.232496, 37.217167, 37.73526 , 30.583275, 34.68842 ,\n",
       "       28.778477, 33.988605, 37.05362 , 34.9807  , 37.349438, 33.499405,\n",
       "       40.415806, 27.75208 , 34.205704, 30.474218, 36.45017 , 28.677279,\n",
       "       37.317173, 32.340763, 34.58327 , 38.38256 , 32.529034, 32.851402,\n",
       "       37.77967 , 27.03008 , 37.67322 , 39.104385, 29.539133, 33.611305,\n",
       "       33.367138, 39.872356, 26.24665 , 34.57418 , 34.03734 , 37.76834 ,\n",
       "       28.213148, 27.866735, 32.39934 , 31.890982, 30.354355, 38.852024,\n",
       "       28.438362, 31.93527 , 30.165546, 30.818642, 33.46524 , 25.799973,\n",
       "       40.037907, 34.602592, 41.432846, 40.94087 , 28.742012, 29.298409,\n",
       "       27.327501, 25.68468 , 24.393347, 36.207253, 31.99825 , 33.10798 ,\n",
       "       31.975246, 41.002056, 30.925365, 26.268599, 27.69994 , 34.350666,\n",
       "       33.49555 , 34.3459  , 32.61354 , 29.36856 , 31.927847, 31.333555,\n",
       "       26.406784, 26.1392  , 31.849102, 32.559334, 26.759459, 27.128681,\n",
       "       33.46471 , 25.696022, 39.531662, 25.614962, 29.205957, 35.866436,\n",
       "       33.922802, 30.54949 , 26.56104 , 34.74197 , 35.415966, 31.666079,\n",
       "       24.55368 , 28.527035, 32.46319 , 30.705061, 26.667303, 30.074585,\n",
       "       28.81777 , 29.525307, 30.287828, 41.674404, 28.127012, 23.514673,\n",
       "       24.146955, 34.39315 , 34.275787, 29.418938, 31.899055, 34.279648,\n",
       "       38.199127, 29.709558, 33.297375, 31.315609, 48.098766, 31.642315,\n",
       "       31.112818, 32.169987, 28.291655, 29.886494, 29.534239, 37.607212,\n",
       "       33.898518, 27.273867, 36.440533, 33.307716, 33.806824, 41.918667,\n",
       "       32.30166 , 34.564476, 27.748764, 27.102196, 30.35127 , 25.915003,\n",
       "       39.627953, 32.016376, 27.268335, 26.168196, 30.277464, 37.945946,\n",
       "       31.79229 , 30.188322, 31.745531, 34.571774, 27.447218, 38.33363 ,\n",
       "       35.436764, 32.30322 , 33.19396 , 36.259956, 31.90438 , 26.34763 ,\n",
       "       27.657398, 23.770424, 37.635616, 24.863705, 32.0656  , 35.757534,\n",
       "       27.923752, 24.457087, 31.310886, 29.292551, 27.762049, 33.294197,\n",
       "       25.197886, 30.34018 , 25.346214, 36.63535 , 40.767548, 30.159302,\n",
       "       34.5705  , 28.275806, 43.788746, 37.89466 , 38.49612 , 33.594734,\n",
       "       33.402885, 38.87391 , 34.617622, 23.135916], dtype=float32)"
      ]
     },
     "execution_count": 9,
     "metadata": {},
     "output_type": "execute_result"
    }
   ],
   "source": [
    "dif = test_left_latent - test_right_latent\n",
    "sq_dif = dif ** 2\n",
    "sq_dif_sum = np.sum(sq_dif, axis=1)\n",
    "test_dist_array = np.sqrt(sq_dif_sum)\n",
    "test_min = test_dist_array.min()\n",
    "test_max = test_dist_array.max()\n",
    "print(test_min)\n",
    "print(test_max)\n",
    "print(len(test_dist_array))\n",
    "test_dist_array"
   ]
  },
  {
   "cell_type": "code",
   "execution_count": 10,
   "metadata": {},
   "outputs": [],
   "source": [
    "def obj_func(threshold: float) -> float:\n",
    "    decision = (train_dist_array < threshold).astype(int)\n",
    "    accuracy = np.mean(decision == train_values)\n",
    "    return -accuracy\n",
    "def evaluate(dist_array: np.array, true: np.array, threshold: float) -> float:\n",
    "    decision = (dist_array < threshold).astype(int)\n",
    "    return np.mean(decision == true)"
   ]
  },
  {
   "cell_type": "code",
   "execution_count": 11,
   "metadata": {},
   "outputs": [],
   "source": [
    "domain = [{'name': 'threshold', 'type': 'continuous', 'domain': (train_min, train_max)}]\n",
    "max_iter = 30\n",
    "BO = BayesianOptimization(f = obj_func, domain = domain)\n",
    "BO.run_optimization(max_iter=max_iter)"
   ]
  },
  {
   "cell_type": "code",
   "execution_count": 12,
   "metadata": {},
   "outputs": [
    {
     "name": "stdout",
     "output_type": "stream",
     "text": [
      "[31.35039376]\n"
     ]
    }
   ],
   "source": [
    "opt_values = BO.x_opt\n",
    "print(opt_values)"
   ]
  },
  {
   "cell_type": "code",
   "execution_count": 13,
   "metadata": {},
   "outputs": [
    {
     "data": {
      "text/plain": [
       "-0.5954545454545455"
      ]
     },
     "execution_count": 13,
     "metadata": {},
     "output_type": "execute_result"
    }
   ],
   "source": [
    "obj_func(*opt_values)"
   ]
  },
  {
   "cell_type": "code",
   "execution_count": 14,
   "metadata": {},
   "outputs": [
    {
     "data": {
      "text/plain": [
       "0.573"
      ]
     },
     "execution_count": 14,
     "metadata": {},
     "output_type": "execute_result"
    }
   ],
   "source": [
    "evaluate(test_dist_array, test_values, threshold=opt_values[0])"
   ]
  }
 ],
 "metadata": {
  "kernelspec": {
   "display_name": "tscl",
   "language": "python",
   "name": "python3"
  },
  "language_info": {
   "codemirror_mode": {
    "name": "ipython",
    "version": 3
   },
   "file_extension": ".py",
   "mimetype": "text/x-python",
   "name": "python",
   "nbconvert_exporter": "python",
   "pygments_lexer": "ipython3",
   "version": "3.10.10"
  }
 },
 "nbformat": 4,
 "nbformat_minor": 2
}
