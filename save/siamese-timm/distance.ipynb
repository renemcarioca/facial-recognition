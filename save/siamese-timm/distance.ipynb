{
 "cells": [
  {
   "cell_type": "code",
   "execution_count": 1,
   "metadata": {},
   "outputs": [],
   "source": [
    "import pandas as pd\n",
    "import numpy as np\n",
    "from GPyOpt.methods.bayesian_optimization import BayesianOptimization"
   ]
  },
  {
   "cell_type": "code",
   "execution_count": 2,
   "metadata": {},
   "outputs": [
    {
     "name": "stdout",
     "output_type": "stream",
     "text": [
      "(2200, 1025)\n",
      "(1000, 1025)\n"
     ]
    }
   ],
   "source": [
    "train = np.load('dev-train-timm-siamese-40epochs.npy')\n",
    "val = np.load('dev-val-timm-siamese-40epochs.npy')\n",
    "print(train.shape)\n",
    "print(val.shape)"
   ]
  },
  {
   "cell_type": "code",
   "execution_count": 3,
   "metadata": {},
   "outputs": [
    {
     "name": "stdout",
     "output_type": "stream",
     "text": [
      "(2200, 512)\n",
      "(2200, 512)\n",
      "(2200,)\n"
     ]
    }
   ],
   "source": [
    "num_features = int((train.shape[1] - 1)/2)\n",
    "y_train = train[:, -1]\n",
    "X_train = train[:, :-1]\n",
    "train_left = X_train[:, :num_features]\n",
    "train_right = X_train[:, -num_features:]\n",
    "print(train_left.shape)\n",
    "print(train_right.shape)\n",
    "print(y_train.shape)"
   ]
  },
  {
   "cell_type": "code",
   "execution_count": 4,
   "metadata": {},
   "outputs": [
    {
     "name": "stdout",
     "output_type": "stream",
     "text": [
      "(1000, 512)\n",
      "(1000, 512)\n",
      "(1000,)\n"
     ]
    }
   ],
   "source": [
    "num_features = int((val.shape[1] - 1)/2)\n",
    "y_val = val[:, -1]\n",
    "X_val = val[:, :-1]\n",
    "val_left = X_val[:, :num_features]\n",
    "val_right = X_val[:, -num_features:]\n",
    "print(val_left.shape)\n",
    "print(val_right.shape)\n",
    "print(y_val.shape)"
   ]
  },
  {
   "cell_type": "code",
   "execution_count": 5,
   "metadata": {},
   "outputs": [
    {
     "name": "stdout",
     "output_type": "stream",
     "text": [
      "Train accuracy: 0.8909090909090909\n",
      "Val accuracy: 0.845\n"
     ]
    }
   ],
   "source": [
    "def compute_accuracy(x, labels, threshold):\n",
    "    num_features = int((x.shape[1])/2)\n",
    "    x1 = x[:, :num_features]\n",
    "    x2 = x[:, -num_features:]\n",
    "    decision = np.linalg.norm(x1 - x2, axis=1) < threshold\n",
    "    return np.sum(decision == labels) / len(labels)\n",
    "\n",
    "print(f'Train accuracy: {compute_accuracy(X_train, y_train, 0.5)}')\n",
    "print(f'Val accuracy: {compute_accuracy(X_val, y_val, 0.5)}')"
   ]
  }
 ],
 "metadata": {
  "kernelspec": {
   "display_name": "tscl",
   "language": "python",
   "name": "python3"
  },
  "language_info": {
   "codemirror_mode": {
    "name": "ipython",
    "version": 3
   },
   "file_extension": ".py",
   "mimetype": "text/x-python",
   "name": "python",
   "nbconvert_exporter": "python",
   "pygments_lexer": "ipython3",
   "version": "3.12.0"
  }
 },
 "nbformat": 4,
 "nbformat_minor": 2
}
